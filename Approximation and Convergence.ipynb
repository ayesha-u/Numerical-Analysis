{
 "cells": [
  {
   "cell_type": "markdown",
   "metadata": {},
   "source": [
    "Question 1a"
   ]
  },
  {
   "cell_type": "code",
   "execution_count": 16,
   "metadata": {},
   "outputs": [
    {
     "name": "stdout",
     "output_type": "stream",
     "text": [
      "h0 =  1.6514705137461927\n",
      "h1 =  1.6494083237722634\n",
      "h2 =  1.648893017866171\n",
      "h3 =  1.6487642064853247\n",
      "h4 =  1.6487320045835219\n",
      "h5 =  1.6487239541670817\n",
      "h6 =  1.6487219415666488\n",
      "h7 =  1.6487214384167714\n",
      "h8 =  1.648721312629391\n",
      "h9 =  1.6487212811824747\n",
      "h10 =  1.6487212733215983\n",
      "rate of convergence test 1 =  4.0018752930013735\n",
      "rate of convergence test 2 =  4.00043387085111\n",
      "4 = 2^2 so we can verify that this converges at a quadratic rate \n"
     ]
    }
   ],
   "source": [
    "import numpy as np\n",
    "import matplotlib.pyplot as plt\n",
    "\n",
    "def f(point):\n",
    "    return np.exp(point)\n",
    "\n",
    "def center(x, func, h):\n",
    "    return (f(x+h) - f(x-h)) / (2*h)\n",
    "\n",
    "h0 = center(1/2, f, 0.1)\n",
    "print(\"h0 = \", h0)\n",
    "h1 = center(1/2, f, 0.1/2)\n",
    "print(\"h1 = \", h1)\n",
    "h2 = center(1/2, f, 0.1/4)\n",
    "print(\"h2 = \", h2)\n",
    "h3 = center(1/2, f, 0.1/8)\n",
    "print(\"h3 = \", h3)\n",
    "h4 = center(1/2, f, 0.1/16)\n",
    "print(\"h4 = \", h4)\n",
    "h5 = center(1/2, f, 0.1/32)\n",
    "print(\"h5 = \", h5)\n",
    "h6 = center(1/2, f, 0.1/64)\n",
    "print(\"h6 = \", h6)\n",
    "h7 = center(1/2, f, 0.1/128)\n",
    "print(\"h7 = \", h7)\n",
    "h8 = center(1/2, f, 0.1/256)\n",
    "print(\"h8 = \", h8)\n",
    "h9 = center(1/2, f, 0.1/512)\n",
    "print(\"h9 = \", h9)\n",
    "h10 = center(1/2, f, 0.1/1024)\n",
    "print(\"h10 = \", h10)\n",
    "\n",
    "\n",
    "print(\"rate of convergence test 1 = \",(h1-h0) / (h2-h1))\n",
    "print(\"rate of convergence test 2 = \",(h9-h8)/(h10-h9))\n",
    "print(\"4 = 2^2 so we can verify that this converges at a quadratic rate \")"
   ]
  },
  {
   "cell_type": "markdown",
   "metadata": {},
   "source": [
    "Question 1b"
   ]
  },
  {
   "cell_type": "markdown",
   "metadata": {},
   "source": [
    "The optimal value of $h_0$ is $h_0 = \\big(\\frac{3eps|f(x_0)|}{M_3}\\big)^{1/3} $, where eps $=2^{-52}$. Let $M_3 = 1.7$."
   ]
  },
  {
   "cell_type": "code",
   "execution_count": 25,
   "metadata": {},
   "outputs": [
    {
     "name": "stdout",
     "output_type": "stream",
     "text": [
      "optimal h0 =  8.644766487225863e-06\n",
      "1.6487212707222116\n",
      "error =  -2.208344618281899e-11\n"
     ]
    }
   ],
   "source": [
    "opt = (3*2**(-52)*f(1/2) / 1.7)**(1/3)\n",
    "print(\"optimal h0 = \", opt)\n",
    "\n",
    "test = center(1/2,f,opt)\n",
    "print(test)\n",
    "\n",
    "error = f(1/2) - test\n",
    "print(\"error = \", error)"
   ]
  },
  {
   "cell_type": "markdown",
   "metadata": {},
   "source": [
    "Question 1c"
   ]
  },
  {
   "cell_type": "markdown",
   "metadata": {},
   "source": [
    "Let $h=0.1$. Then we obtain the approximations $f'(x) = 1.6514705137461927$ for $h$ and $f'(x) = 1.6494083237722634$ for $h/2$. Using extrapolation, we can get fourth order approximation $N_2(h) = N_1(h/2)+ \\frac{N_1(h/2)-N_1(h)}{2^2-1} = 1.6494083237722634 + \\frac{1.6494083237722634 -1.6514705137461927 }{3} = 1.648720927$. Applying extrapolation again, we get $N_2(h/2) = N_1(h/4)+ \\frac{N_1(h/4)-N_1(h/2)}{2^2-1} = 1.648893017866171+ \\frac{1.648893017866171-1.6494083237722634}{3} =1.648721249 $"
   ]
  },
  {
   "cell_type": "code",
   "execution_count": 31,
   "metadata": {},
   "outputs": [
    {
     "name": "stdout",
     "output_type": "stream",
     "text": [
      "1.648720927114287 1.6487212492308068 1.648721269358376\n",
      "16.003746751957244\n",
      "rate of convergence is 4\n"
     ]
    }
   ],
   "source": [
    "N1 = h1 + ((h1-h0)/3)\n",
    "N2 = h2 + ((h2-h1)/3)\n",
    "N4 = h3 +((h3-h2)/3)\n",
    "print(N1,N2,N4)\n",
    "rate = (N2-N1) / (N4-N2)\n",
    "print(rate)\n",
    "print(\"rate of convergence is 4\")"
   ]
  }
 ],
 "metadata": {
  "kernelspec": {
   "display_name": "Python 3",
   "language": "python",
   "name": "python3"
  },
  "language_info": {
   "codemirror_mode": {
    "name": "ipython",
    "version": 3
   },
   "file_extension": ".py",
   "mimetype": "text/x-python",
   "name": "python",
   "nbconvert_exporter": "python",
   "pygments_lexer": "ipython3",
   "version": "3.8.5"
  }
 },
 "nbformat": 4,
 "nbformat_minor": 4
}
