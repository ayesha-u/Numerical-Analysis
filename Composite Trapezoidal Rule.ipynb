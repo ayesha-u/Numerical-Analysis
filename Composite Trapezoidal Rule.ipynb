{
 "cells": [
  {
   "cell_type": "markdown",
   "metadata": {},
   "source": [
    "Question 1, part 1"
   ]
  },
  {
   "cell_type": "code",
   "execution_count": 1,
   "metadata": {},
   "outputs": [
    {
     "name": "stdout",
     "output_type": "stream",
     "text": [
      "test1 =  0.6682683087950135\n",
      "test1 =  0.6670676941291325\n",
      "test1 =  0.6667669623471976\n",
      "error1 =  0.0016016421283467919\n",
      "error2 =  0.0004010274624657306\n",
      "error3 =  0.00010029568053082638\n",
      "error1 / error2 =  3.993846502429141  which is approximately 4 = 2^2. Therefore rate of convergence is 2.\n",
      "error2 / error3 =  3.9984519806161822  which is approximately 4 = 2^2. Therefore rate of convergence is 2.\n"
     ]
    }
   ],
   "source": [
    "import numpy as np\n",
    "import matplotlib.pyplot as plt\n",
    "import math\n",
    "from sympy import solve\n",
    "\n",
    "trap1=0\n",
    "trap2=0\n",
    "trapf=0\n",
    "\n",
    "def CTR(N,a,b,f,trap1,trap2,trapf):\n",
    "    h = float((b-a) / N)\n",
    "    for i in range(1, int(N)):\n",
    "        trap1 += (f(a + i*h))\n",
    "        trap2 = trap1 + (0.5*f(a) + 0.5*f(b))\n",
    "        trapf = float(h*trap2)\n",
    "    return(trapf);\n",
    "\n",
    "def func(x): return 1/((1+x)**2)\n",
    "test1 = CTR(20,0,2,func,trap1,trap2,trapf)\n",
    "test2 = CTR(40,0,2,func,trap1,trap2,trapf)\n",
    "test3 = CTR(80,0,2,func,trap1,trap2,trapf)\n",
    "print(\"test1 = \",test1)\n",
    "print(\"test1 = \",test2)\n",
    "print(\"test1 = \",test3)\n",
    "\n",
    "def integral(x): return -1/(1+x)\n",
    "I_f = integral(2) - integral(0)\n",
    "error1 = np.abs(I_f - test1)\n",
    "error2 = np.abs(I_f - test2)\n",
    "error3 = np.abs(I_f - test3)\n",
    "print(\"error1 = \", error1)\n",
    "print(\"error2 = \", error2)\n",
    "print(\"error3 = \", error3)\n",
    "\n",
    "print(\"error1 / error2 = \", error1 / error2, \" which is approximately 4 = 2^2. Therefore rate of convergence is 2.\")\n",
    "print(\"error2 / error3 = \", error2 / error3, \" which is approximately 4 = 2^2. Therefore rate of convergence is 2.\")\n"
   ]
  },
  {
   "cell_type": "markdown",
   "metadata": {},
   "source": [
    "Question 1, part 2"
   ]
  },
  {
   "cell_type": "code",
   "execution_count": 2,
   "metadata": {
    "scrolled": false
   },
   "outputs": [
    {
     "name": "stdout",
     "output_type": "stream",
     "text": [
      "when N = 16, T =  0.6635811968772283\n",
      "when N = 32, T =  0.6655589362789418\n",
      "when N = 64, T =  0.6662708113785066\n",
      "when N = 128, T =  0.6665256572968262\n",
      "error16 =  0.0030854697894383554\n",
      "error32 =  0.0011077303877248257\n",
      "error64 =  0.0003958552881599964\n",
      "error128 =  0.0001410093698404058\n",
      "error16 / error32 =  2.7853978040411267\n",
      "error32 / error64 =  2.7983215605726715\n",
      "error64 / error128 =  2.807297760482334\n"
     ]
    }
   ],
   "source": [
    "def func2(x): return np.sqrt(x)\n",
    "test16 = CTR(16,0,1,func2,trap1,trap2,trapf)\n",
    "test32 = CTR(32,0,1,func2,trap1,trap2,trapf)\n",
    "test64 = CTR(64,0,1,func2,trap1,trap2,trapf)\n",
    "test128 = CTR(128,0,1,func2,trap1,trap2,trapf)\n",
    "print(\"when N = 16, T = \",test16)\n",
    "print(\"when N = 32, T = \",test32)\n",
    "print(\"when N = 64, T = \",test64)\n",
    "print(\"when N = 128, T = \",test128)\n",
    "\n",
    "def integ(x): return 2*(x**(3/2)) / 3\n",
    "I_f2 = integ(1) - integ(0)\n",
    "error16 = np.abs(I_f2 - test16)\n",
    "error32 = np.abs(I_f2 - test32)\n",
    "error64 = np.abs(I_f2 - test64)\n",
    "error128 = np.abs(I_f2 - test128)\n",
    "print(\"error16 = \",error16)\n",
    "print(\"error32 = \",error32)\n",
    "print(\"error64 = \",error64)\n",
    "print(\"error128 = \",error128)\n",
    "\n",
    "print(\"error16 / error32 = \", error16 / error32,)\n",
    "print(\"error32 / error64 = \", error32 / error64)\n",
    "print(\"error64 / error128 = \", error64 / error128)\n"
   ]
  },
  {
   "cell_type": "markdown",
   "metadata": {},
   "source": [
    "There isn't a second order convergence to the exact value of the integral because the second derivative of $f(x)$ diverges at $0$, so the errors decay slowly for $x$ values close to $0$."
   ]
  },
  {
   "cell_type": "markdown",
   "metadata": {},
   "source": [
    "Question 2, part 1"
   ]
  },
  {
   "cell_type": "code",
   "execution_count": 3,
   "metadata": {
    "scrolled": true
   },
   "outputs": [
    {
     "name": "stdout",
     "output_type": "stream",
     "text": [
      "N= 736\n",
      "N= 751\n",
      "N= 754\n",
      "N= 757\n",
      "N= 763\n",
      "N= 765\n",
      "N= 767\n",
      "N= 769\n",
      "N= 772\n",
      "N= 777\n",
      "N= 779\n",
      "N= 780\n",
      "N= 782\n",
      "N= 783\n",
      "N= 784\n",
      "N= 786\n",
      "N= 787\n",
      "N= 788\n",
      "N= 791\n",
      "N= 792\n",
      "N= 793\n",
      "N= 794\n",
      "N= 795\n",
      "N= 796\n",
      "N= 797\n",
      "N= 802\n",
      "N= 803\n",
      "N= 804\n",
      "N= 805\n",
      "N= 810\n",
      "N= 811\n",
      "N= 814\n",
      "N= 815\n",
      "N= 816\n",
      "N= 817\n",
      "N= 818\n",
      "N= 819\n",
      "N= 820\n",
      "N= 821\n",
      "N= 822\n",
      "N= 823\n",
      "N= 824\n",
      "N= 825\n",
      "N= 826\n",
      "N= 827\n",
      "N= 828\n",
      "N= 829\n",
      "N= 830\n",
      "N= 831\n",
      "N= 833\n",
      "N= 834\n",
      "N= 835\n",
      "N= 836\n",
      "N= 837\n",
      "N= 838\n",
      "N= 839\n",
      "N= 841\n",
      "N= 842\n",
      "N= 843\n",
      "N= 845\n",
      "N= 847\n",
      "N= 848\n",
      "N= 849\n",
      "N= 850\n",
      "N= 851\n",
      "N= 852\n",
      "N= 853\n",
      "N= 854\n",
      "N= 855\n",
      "N= 856\n",
      "N= 857\n",
      "N= 858\n",
      "N= 859\n",
      "N= 860\n",
      "N= 862\n",
      "N= 863\n",
      "N= 864\n",
      "N= 865\n",
      "N= 866\n",
      "N= 867\n",
      "N= 868\n",
      "N= 870\n",
      "N= 871\n",
      "N= 872\n",
      "N= 873\n",
      "N= 874\n",
      "N= 875\n",
      "N= 876\n",
      "N= 877\n",
      "N= 878\n",
      "N= 879\n",
      "N= 880\n",
      "N= 881\n",
      "N= 882\n",
      "N= 883\n",
      "N= 884\n",
      "N= 885\n",
      "N= 886\n",
      "N= 888\n",
      "N= 889\n",
      "N= 890\n",
      "N= 891\n",
      "N= 892\n",
      "N= 893\n",
      "N= 894\n",
      "N= 895\n",
      "N= 897\n",
      "N= 898\n",
      "N= 899\n",
      "N= 900\n",
      "N= 901\n",
      "N= 902\n",
      "N= 903\n",
      "N= 904\n",
      "N= 905\n",
      "N= 906\n",
      "N= 907\n",
      "N= 908\n",
      "N= 909\n",
      "N= 910\n",
      "N= 911\n",
      "N= 912\n",
      "N= 913\n",
      "N= 914\n",
      "N= 915\n",
      "N= 916\n",
      "N= 917\n",
      "N= 918\n",
      "N= 919\n",
      "N= 920\n",
      "N= 921\n",
      "N= 922\n",
      "N= 923\n",
      "N= 924\n",
      "N= 925\n",
      "N= 926\n",
      "N= 927\n",
      "N= 928\n",
      "N= 929\n",
      "N= 930\n",
      "N= 931\n",
      "N= 932\n",
      "N= 933\n",
      "N= 934\n",
      "N= 935\n",
      "N= 936\n",
      "N= 937\n",
      "N= 938\n",
      "N= 939\n",
      "N= 940\n",
      "N= 941\n",
      "N= 942\n",
      "N= 943\n",
      "N= 944\n",
      "N= 945\n",
      "N= 946\n",
      "N= 947\n",
      "N= 948\n",
      "N= 949\n",
      "N= 950\n",
      "N= 951\n",
      "N= 952\n",
      "N= 953\n",
      "N= 954\n",
      "N= 955\n",
      "N= 956\n",
      "N= 957\n",
      "N= 958\n",
      "N= 959\n",
      "N= 960\n",
      "N= 961\n",
      "N= 962\n",
      "N= 963\n",
      "N= 964\n",
      "N= 965\n",
      "N= 966\n",
      "N= 967\n",
      "N= 968\n",
      "N= 970\n",
      "N= 971\n",
      "N= 972\n",
      "N= 973\n",
      "N= 974\n",
      "N= 976\n",
      "N= 977\n",
      "N= 978\n",
      "N= 979\n",
      "N= 980\n",
      "N= 981\n",
      "N= 982\n",
      "N= 983\n",
      "N= 984\n",
      "N= 985\n",
      "N= 986\n",
      "N= 987\n",
      "N= 988\n",
      "N= 989\n",
      "N= 990\n",
      "N= 991\n",
      "N= 992\n",
      "N= 993\n",
      "N= 994\n",
      "N= 995\n",
      "N= 996\n",
      "N= 997\n",
      "N= 998\n",
      "N= 999\n",
      "h =  0.0012545687060215216\n"
     ]
    }
   ],
   "source": [
    "def func3(x): return np.cos(x**2)\n",
    "\n",
    "Th1 = lambda N: CTR(N, 0, np.sqrt(np.pi/2), func3,trap1,trap2,trapf)\n",
    "Th2 = lambda N: CTR(2*N, 0, np.sqrt(np.pi/2), func3,trap1,trap2,trapf)\n",
    "Th4 = lambda N: CTR(4*N, 0, np.sqrt(np.pi/2), func3,trap1,trap2,trapf)\n",
    "\n",
    "Fc1 = lambda N: (Th2(N) - Th1(N)) / (Th4(N) - Th2(N))\n",
    "for N in range(1, 1000):\n",
    "       if (3.999999 <= Fc1(N) <= 4.000001):\n",
    "        print(\"N=\",N)"
   ]
  },
  {
   "cell_type": "code",
   "execution_count": 4,
   "metadata": {},
   "outputs": [
    {
     "name": "stdout",
     "output_type": "stream",
     "text": [
      "When N = 736, q(h) =  4.000000968745322  which is approximately 4.\n"
     ]
    }
   ],
   "source": [
    "#just to check\n",
    "print(\"When N = 736, q(h) = \", Fc1(736), \" which is approximately 4.\") "
   ]
  },
  {
   "cell_type": "markdown",
   "metadata": {},
   "source": [
    "Let's pick $N = 736$. Then a value of $h$ is  $h = \\frac{b-a}{N}\\ = \\frac{\\sqrt\\frac{\\pi}{2}}{736} = 0.001702872469 $."
   ]
  },
  {
   "cell_type": "markdown",
   "metadata": {},
   "source": [
    "Question 2, part 2"
   ]
  },
  {
   "cell_type": "code",
   "execution_count": 13,
   "metadata": {},
   "outputs": [
    {
     "name": "stdout",
     "output_type": "stream",
     "text": [
      "I - Th =  6.057212814658541e-07\n"
     ]
    }
   ],
   "source": [
    "Int = 0.977451424291\n",
    "T_h = CTR(736,0,np.sqrt(np.pi/2),func3,trap1,trap2,trapf)\n",
    "print(\"I - Th = \", np.abs(Int - T_h))"
   ]
  },
  {
   "cell_type": "markdown",
   "metadata": {},
   "source": [
    "Question 2, part 3"
   ]
  },
  {
   "cell_type": "markdown",
   "metadata": {},
   "source": [
    "$I - T_h = \\frac{4}{3}(T_\\frac{h}{2} - T_h)$ so we can use our error approximation to solve for $S_h$."
   ]
  },
  {
   "cell_type": "code",
   "execution_count": 25,
   "metadata": {},
   "outputs": [
    {
     "name": "stdout",
     "output_type": "stream",
     "text": [
      "Sh =  0.977451424291\n"
     ]
    }
   ],
   "source": [
    "Sh = T_h + (Int - T_h)\n",
    "print(\"Sh = \", Sh)\n"
   ]
  },
  {
   "cell_type": "markdown",
   "metadata": {},
   "source": [
    "Question 2, part 4"
   ]
  },
  {
   "cell_type": "markdown",
   "metadata": {},
   "source": [
    "Simpson's rule is more accurate than the trapezoidal rule and converges faster to the exact value because it uses quadratic approximations rather than linear approximations. It divides the intervals further than the trapezoidal rule in order to give a more accurate result"
   ]
  },
  {
   "cell_type": "markdown",
   "metadata": {},
   "source": [
    "Question 2, part 5"
   ]
  },
  {
   "cell_type": "code",
   "execution_count": 12,
   "metadata": {},
   "outputs": [
    {
     "name": "stdout",
     "output_type": "stream",
     "text": [
      "N =  227\n",
      "N =  234\n"
     ]
    }
   ],
   "source": [
    "Th8 = lambda N: CTR(8*N, 0, np.sqrt(np.pi/2), func3,trap1,trap2,trapf)\n",
    "\n",
    "Sh1 = lambda N: Th1(N) + (4/3)*(Th2(N) - Th1(N))\n",
    "Sh2 = lambda N: Th2(N) + (4/3)*(Th4(N) - Th2(N))\n",
    "Sh4 = lambda N: Th4(N) + (4/3)*(Th8(N) - Th4(N))\n",
    "\n",
    "for N in range (1,300):\n",
    "    if (15.999999 <= (((Sh2(N) - Sh1(N))) / (Sh4(N) - Sh2(N)) ) <= 16.000001):\n",
    "        print(\"N = \", N)"
   ]
  },
  {
   "cell_type": "markdown",
   "metadata": {},
   "source": [
    "Let $N = 234$ since $N$ must be even for Simpson's rule. Then $h = \\frac{b-a}{N}\\ = \\frac{\\sqrt\\frac{\\pi}{2}}{234} = 0.005356043322$."
   ]
  }
 ],
 "metadata": {
  "kernelspec": {
   "display_name": "Python 3",
   "language": "python",
   "name": "python3"
  },
  "language_info": {
   "codemirror_mode": {
    "name": "ipython",
    "version": 3
   },
   "file_extension": ".py",
   "mimetype": "text/x-python",
   "name": "python",
   "nbconvert_exporter": "python",
   "pygments_lexer": "ipython3",
   "version": "3.8.5"
  }
 },
 "nbformat": 4,
 "nbformat_minor": 4
}
