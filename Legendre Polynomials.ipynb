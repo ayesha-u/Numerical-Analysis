{
 "cells": [
  {
   "cell_type": "code",
   "execution_count": 30,
   "metadata": {
    "scrolled": true
   },
   "outputs": [
    {
     "name": "stdout",
     "output_type": "stream",
     "text": [
      "[15. +0.j         -2.5+3.4409548j  -2.5+0.81229924j -2.5-0.81229924j\n",
      " -2.5-3.4409548j ]\n",
      "15\n",
      "(-2.5+0.8122992405822647j)\n",
      "[1.+0.j 2.+0.j 3.+0.j 4.+0.j 5.+0.j]\n",
      "(5+0j)\n"
     ]
    },
    {
     "name": "stderr",
     "output_type": "stream",
     "text": [
      "<ipython-input-30-e8551cb02054>:7: DeprecationWarning: Using scipy.fft as a function is deprecated and will be removed in SciPy 1.5.0, use scipy.fft.fft instead.\n",
      "  y = fft(x)\n"
     ]
    }
   ],
   "source": [
    "import numpy as np\n",
    "import matplotlib.pyplot as plt\n",
    "from scipy import fft, ifft\n",
    "import scipy\n",
    "\n",
    "x = np.array([1,2, 3,4,5])\n",
    "y = fft(x)\n",
    "print(y)\n",
    "\n",
    "\n",
    "sum0 = 1+2+3+4+5\n",
    "print(sum0)\n",
    "sum1 = 1*np.exp(-1j*4*np.pi*0 / 5) + 2*np.exp(-1j*4*np.pi*1 / 5) + 3*np.exp(-1j*4*np.pi*2 / 5)+ 4*np.exp(-1j*4*np.pi*3 / 5)+ 5*np.exp(-1j*4*np.pi*4 / 5)\n",
    "print(sum1)\n",
    "\n",
    "y2 = scipy.fft.ifft(y)\n",
    "print(y2)\n",
    "\n",
    "d = np.sum(y)\n",
    "print(d)"
   ]
  },
  {
   "cell_type": "markdown",
   "metadata": {},
   "source": [
    "Answers to 1 are C and B."
   ]
  }
 ],
 "metadata": {
  "kernelspec": {
   "display_name": "Python 3",
   "language": "python",
   "name": "python3"
  },
  "language_info": {
   "codemirror_mode": {
    "name": "ipython",
    "version": 3
   },
   "file_extension": ".py",
   "mimetype": "text/x-python",
   "name": "python",
   "nbconvert_exporter": "python",
   "pygments_lexer": "ipython3",
   "version": "3.8.5"
  }
 },
 "nbformat": 4,
 "nbformat_minor": 4
}
